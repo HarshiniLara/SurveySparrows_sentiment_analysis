{
  "nbformat": 4,
  "nbformat_minor": 0,
  "metadata": {
    "colab": {
      "provenance": []
    },
    "kernelspec": {
      "name": "python3",
      "display_name": "Python 3"
    },
    "language_info": {
      "name": "python"
    }
  },
  "cells": [
    {
      "cell_type": "code",
      "execution_count": 1,
      "metadata": {
        "id": "fNzmJJomqiIt"
      },
      "outputs": [],
      "source": [
        "import numpy as np\n",
        "import pandas as pd\n",
        "import nltk\n",
        "import re\n",
        "from nltk.stem import WordNetLemmatizer\n",
        "from nltk.corpus import stopwords\n",
        "from nltk.tokenize import word_tokenize"
      ]
    },
    {
      "cell_type": "code",
      "source": [
        "df = pd.read_csv(\"food_sleep_survey.csv\")\n",
        "df.shape"
      ],
      "metadata": {
        "colab": {
          "base_uri": "https://localhost:8080/"
        },
        "id": "xiN4NMzAzlzU",
        "outputId": "6f1e2e97-b40c-4364-b73f-1d94e92b5ad7"
      },
      "execution_count": 2,
      "outputs": [
        {
          "output_type": "execute_result",
          "data": {
            "text/plain": [
              "(113, 24)"
            ]
          },
          "metadata": {},
          "execution_count": 2
        }
      ]
    },
    {
      "cell_type": "code",
      "source": [
        "df.head()"
      ],
      "metadata": {
        "colab": {
          "base_uri": "https://localhost:8080/",
          "height": 959
        },
        "id": "_wesyRvCzqJf",
        "outputId": "52265e34-e427-4410-adce-7faceb666551"
      },
      "execution_count": 3,
      "outputs": [
        {
          "output_type": "execute_result",
          "data": {
            "text/plain": [
              "                        Timestamp             Name  Gender    Age  \\\n",
              "0  2023/03/05 9:54:37 AM GMT+5:30         Sivanuja  Female  18-25   \n",
              "1  2023/03/05 9:54:46 AM GMT+5:30     HariHaran VJ    Male  18-25   \n",
              "2  2023/03/05 9:56:10 AM GMT+5:30           Suriya    Male  18-25   \n",
              "3  2023/03/05 9:57:32 AM GMT+5:30  Priyadharshini   Female  18-25   \n",
              "4  2023/03/05 9:58:21 AM GMT+5:30        Nithish S    Male  18-25   \n",
              "\n",
              "  Which of the following best describes you?  \\\n",
              "0                                    Student   \n",
              "1                                    Student   \n",
              "2                                    Student   \n",
              "3                                    Student   \n",
              "4                                    Student   \n",
              "\n",
              "  On an average how many times do you take meal in a day?  \\\n",
              "0                                                  3        \n",
              "1                                                  3        \n",
              "2                                                  3        \n",
              "3                                                  3        \n",
              "4                                                  3        \n",
              "\n",
              "  Do you wash your hands before meal?  \\\n",
              "0                                 Yes   \n",
              "1                                 Yes   \n",
              "2                                 Yes   \n",
              "3                                 Yes   \n",
              "4                                 Yes   \n",
              "\n",
              "  When do you take water when you have your meal?  \\\n",
              "0                                     During meal   \n",
              "1                                      After meal   \n",
              "2                                     During meal   \n",
              "3                                      After meal   \n",
              "4                                      After meal   \n",
              "\n",
              "  Do you think that you take a balanced and a nutritious diet?   \\\n",
              "0                                                 No              \n",
              "1                                                 No              \n",
              "2                                             May be              \n",
              "3                                                 No              \n",
              "4                                             May be              \n",
              "\n",
              "  What kind of food do you think that you are allergic to?\\n(like peanuts , dairy products , greens , potatoes etc..)  \\\n",
              "0                                            Peanuts                                                                    \n",
              "1                                             Greens                                                                    \n",
              "2                                               Curd                                                                    \n",
              "3                                        Vegetables                                                                     \n",
              "4                                           Brinjal                                                                     \n",
              "\n",
              "   ...  \\\n",
              "0  ...   \n",
              "1  ...   \n",
              "2  ...   \n",
              "3  ...   \n",
              "4  ...   \n",
              "\n",
              "  What do you think about the quality of food that you order online? Do you consider it healthy? How was your experience consuming it?  \\\n",
              "0                                       its not good                                                                                     \n",
              "1                             It is of good quality                                                                                      \n",
              "2                                 Sort of unhealthy                                                                                      \n",
              "3                            Definitely not healthy                                                                                      \n",
              "4                                   good to have it                                                                                      \n",
              "\n",
              "  What do you think is the reason behind consuming the medicines along with or in place of food?  \\\n",
              "0  due to nutritional deficiency;to prevent stoma...                                               \n",
              "1  due to nutritional deficiency;to prevent stoma...                                               \n",
              "2                      due to nutritional deficiency                                               \n",
              "3  due to nutritional deficiency;to prevent stoma...                                               \n",
              "4      to manage side effects due to medicine intake                                               \n",
              "\n",
              "                 Why do you think people waste food?  \\\n",
              "0  Either because of not liking the food, or beca...   \n",
              "1  People, out of temptation, get more food than ...   \n",
              "2             Miscalculating the amount they can eat   \n",
              "3       They don't know about the importance of food   \n",
              "4        They're unaware of the vital part of food..   \n",
              "\n",
              "   How many hours of sleep do you have everyday?  \\\n",
              "0                                            6-8   \n",
              "1                                           8-10   \n",
              "2                                        Below 6   \n",
              "3                                            6-8   \n",
              "4                                            6-8   \n",
              "\n",
              "  On an average when do you go to sleep at night?  \\\n",
              "0                                      After 12am   \n",
              "1                                         10-11pm   \n",
              "2                                       11pm-12am   \n",
              "3                                       11pm-12am   \n",
              "4                                       11pm-12am   \n",
              "\n",
              "  Gap between your dinner and Bed time  \\\n",
              "0                           Above 2 hr   \n",
              "1                           Above 2 hr   \n",
              "2                           Above 2 hr   \n",
              "3                               1-2 hr   \n",
              "4                           Above 2 hr   \n",
              "\n",
              "  What do you think should be the reason behind abnormal and irregular sleep? (like sleeping in an undesired time due to heavy use of mobile phone)  \\\n",
              "0  Due to academics work, irregular schedule of w...                                                                                                  \n",
              "1                              Irregular sleep cycle                                                                                                  \n",
              "2                                    Because of work                                                                                                  \n",
              "3                                     Subject Works                                                                                                   \n",
              "4                           Obviously mobile phones                                                                                                   \n",
              "\n",
              "  What impacts / side effects / health issues have you faced due to lack of food and sleep?   \\\n",
              "0  Fatigue;Restlessness;Depression and anxiety;Mo...                                           \n",
              "1                                                Nil                                           \n",
              "2  Depression and anxiety;Head ache and dizziness...                                           \n",
              "3  Restlessness;Depression and anxiety;Head ache ...                                           \n",
              "4                                       Restlessness                                           \n",
              "\n",
              "  What strategies have you taken to fall asleep?  \\\n",
              "0       To avoid electronic gadgets after dinner   \n",
              "1                          Military Sleep Method   \n",
              "2                  Hearing music while sleeping    \n",
              "3                       Completing work earlier    \n",
              "4                                  Hearing music   \n",
              "\n",
              "  What kind of activities have you encountered during sleep?\\r\\n  \n",
              "0            Dream (good / bad);Emotional processing              \n",
              "1                        Speaking;Dream (good / bad)              \n",
              "2                        Speaking;Dream (good / bad)              \n",
              "3                                 Dream (good / bad)              \n",
              "4                    Sleepwalking;Dream (good / bad)              \n",
              "\n",
              "[5 rows x 24 columns]"
            ],
            "text/html": [
              "\n",
              "  <div id=\"df-b798c990-9353-4771-ae2b-dc9247299308\">\n",
              "    <div class=\"colab-df-container\">\n",
              "      <div>\n",
              "<style scoped>\n",
              "    .dataframe tbody tr th:only-of-type {\n",
              "        vertical-align: middle;\n",
              "    }\n",
              "\n",
              "    .dataframe tbody tr th {\n",
              "        vertical-align: top;\n",
              "    }\n",
              "\n",
              "    .dataframe thead th {\n",
              "        text-align: right;\n",
              "    }\n",
              "</style>\n",
              "<table border=\"1\" class=\"dataframe\">\n",
              "  <thead>\n",
              "    <tr style=\"text-align: right;\">\n",
              "      <th></th>\n",
              "      <th>Timestamp</th>\n",
              "      <th>Name</th>\n",
              "      <th>Gender</th>\n",
              "      <th>Age</th>\n",
              "      <th>Which of the following best describes you?</th>\n",
              "      <th>On an average how many times do you take meal in a day?</th>\n",
              "      <th>Do you wash your hands before meal?</th>\n",
              "      <th>When do you take water when you have your meal?</th>\n",
              "      <th>Do you think that you take a balanced and a nutritious diet?</th>\n",
              "      <th>What kind of food do you think that you are allergic to?\\n(like peanuts , dairy products , greens , potatoes etc..)</th>\n",
              "      <th>...</th>\n",
              "      <th>What do you think about the quality of food that you order online? Do you consider it healthy? How was your experience consuming it?</th>\n",
              "      <th>What do you think is the reason behind consuming the medicines along with or in place of food?</th>\n",
              "      <th>Why do you think people waste food?</th>\n",
              "      <th>How many hours of sleep do you have everyday?</th>\n",
              "      <th>On an average when do you go to sleep at night?</th>\n",
              "      <th>Gap between your dinner and Bed time</th>\n",
              "      <th>What do you think should be the reason behind abnormal and irregular sleep? (like sleeping in an undesired time due to heavy use of mobile phone)</th>\n",
              "      <th>What impacts / side effects / health issues have you faced due to lack of food and sleep?</th>\n",
              "      <th>What strategies have you taken to fall asleep?</th>\n",
              "      <th>What kind of activities have you encountered during sleep?\\r\\n</th>\n",
              "    </tr>\n",
              "  </thead>\n",
              "  <tbody>\n",
              "    <tr>\n",
              "      <th>0</th>\n",
              "      <td>2023/03/05 9:54:37 AM GMT+5:30</td>\n",
              "      <td>Sivanuja</td>\n",
              "      <td>Female</td>\n",
              "      <td>18-25</td>\n",
              "      <td>Student</td>\n",
              "      <td>3</td>\n",
              "      <td>Yes</td>\n",
              "      <td>During meal</td>\n",
              "      <td>No</td>\n",
              "      <td>Peanuts</td>\n",
              "      <td>...</td>\n",
              "      <td>its not good</td>\n",
              "      <td>due to nutritional deficiency;to prevent stoma...</td>\n",
              "      <td>Either because of not liking the food, or beca...</td>\n",
              "      <td>6-8</td>\n",
              "      <td>After 12am</td>\n",
              "      <td>Above 2 hr</td>\n",
              "      <td>Due to academics work, irregular schedule of w...</td>\n",
              "      <td>Fatigue;Restlessness;Depression and anxiety;Mo...</td>\n",
              "      <td>To avoid electronic gadgets after dinner</td>\n",
              "      <td>Dream (good / bad);Emotional processing</td>\n",
              "    </tr>\n",
              "    <tr>\n",
              "      <th>1</th>\n",
              "      <td>2023/03/05 9:54:46 AM GMT+5:30</td>\n",
              "      <td>HariHaran VJ</td>\n",
              "      <td>Male</td>\n",
              "      <td>18-25</td>\n",
              "      <td>Student</td>\n",
              "      <td>3</td>\n",
              "      <td>Yes</td>\n",
              "      <td>After meal</td>\n",
              "      <td>No</td>\n",
              "      <td>Greens</td>\n",
              "      <td>...</td>\n",
              "      <td>It is of good quality</td>\n",
              "      <td>due to nutritional deficiency;to prevent stoma...</td>\n",
              "      <td>People, out of temptation, get more food than ...</td>\n",
              "      <td>8-10</td>\n",
              "      <td>10-11pm</td>\n",
              "      <td>Above 2 hr</td>\n",
              "      <td>Irregular sleep cycle</td>\n",
              "      <td>Nil</td>\n",
              "      <td>Military Sleep Method</td>\n",
              "      <td>Speaking;Dream (good / bad)</td>\n",
              "    </tr>\n",
              "    <tr>\n",
              "      <th>2</th>\n",
              "      <td>2023/03/05 9:56:10 AM GMT+5:30</td>\n",
              "      <td>Suriya</td>\n",
              "      <td>Male</td>\n",
              "      <td>18-25</td>\n",
              "      <td>Student</td>\n",
              "      <td>3</td>\n",
              "      <td>Yes</td>\n",
              "      <td>During meal</td>\n",
              "      <td>May be</td>\n",
              "      <td>Curd</td>\n",
              "      <td>...</td>\n",
              "      <td>Sort of unhealthy</td>\n",
              "      <td>due to nutritional deficiency</td>\n",
              "      <td>Miscalculating the amount they can eat</td>\n",
              "      <td>Below 6</td>\n",
              "      <td>11pm-12am</td>\n",
              "      <td>Above 2 hr</td>\n",
              "      <td>Because of work</td>\n",
              "      <td>Depression and anxiety;Head ache and dizziness...</td>\n",
              "      <td>Hearing music while sleeping</td>\n",
              "      <td>Speaking;Dream (good / bad)</td>\n",
              "    </tr>\n",
              "    <tr>\n",
              "      <th>3</th>\n",
              "      <td>2023/03/05 9:57:32 AM GMT+5:30</td>\n",
              "      <td>Priyadharshini</td>\n",
              "      <td>Female</td>\n",
              "      <td>18-25</td>\n",
              "      <td>Student</td>\n",
              "      <td>3</td>\n",
              "      <td>Yes</td>\n",
              "      <td>After meal</td>\n",
              "      <td>No</td>\n",
              "      <td>Vegetables</td>\n",
              "      <td>...</td>\n",
              "      <td>Definitely not healthy</td>\n",
              "      <td>due to nutritional deficiency;to prevent stoma...</td>\n",
              "      <td>They don't know about the importance of food</td>\n",
              "      <td>6-8</td>\n",
              "      <td>11pm-12am</td>\n",
              "      <td>1-2 hr</td>\n",
              "      <td>Subject Works</td>\n",
              "      <td>Restlessness;Depression and anxiety;Head ache ...</td>\n",
              "      <td>Completing work earlier</td>\n",
              "      <td>Dream (good / bad)</td>\n",
              "    </tr>\n",
              "    <tr>\n",
              "      <th>4</th>\n",
              "      <td>2023/03/05 9:58:21 AM GMT+5:30</td>\n",
              "      <td>Nithish S</td>\n",
              "      <td>Male</td>\n",
              "      <td>18-25</td>\n",
              "      <td>Student</td>\n",
              "      <td>3</td>\n",
              "      <td>Yes</td>\n",
              "      <td>After meal</td>\n",
              "      <td>May be</td>\n",
              "      <td>Brinjal</td>\n",
              "      <td>...</td>\n",
              "      <td>good to have it</td>\n",
              "      <td>to manage side effects due to medicine intake</td>\n",
              "      <td>They're unaware of the vital part of food..</td>\n",
              "      <td>6-8</td>\n",
              "      <td>11pm-12am</td>\n",
              "      <td>Above 2 hr</td>\n",
              "      <td>Obviously mobile phones</td>\n",
              "      <td>Restlessness</td>\n",
              "      <td>Hearing music</td>\n",
              "      <td>Sleepwalking;Dream (good / bad)</td>\n",
              "    </tr>\n",
              "  </tbody>\n",
              "</table>\n",
              "<p>5 rows × 24 columns</p>\n",
              "</div>\n",
              "      <button class=\"colab-df-convert\" onclick=\"convertToInteractive('df-b798c990-9353-4771-ae2b-dc9247299308')\"\n",
              "              title=\"Convert this dataframe to an interactive table.\"\n",
              "              style=\"display:none;\">\n",
              "        \n",
              "  <svg xmlns=\"http://www.w3.org/2000/svg\" height=\"24px\"viewBox=\"0 0 24 24\"\n",
              "       width=\"24px\">\n",
              "    <path d=\"M0 0h24v24H0V0z\" fill=\"none\"/>\n",
              "    <path d=\"M18.56 5.44l.94 2.06.94-2.06 2.06-.94-2.06-.94-.94-2.06-.94 2.06-2.06.94zm-11 1L8.5 8.5l.94-2.06 2.06-.94-2.06-.94L8.5 2.5l-.94 2.06-2.06.94zm10 10l.94 2.06.94-2.06 2.06-.94-2.06-.94-.94-2.06-.94 2.06-2.06.94z\"/><path d=\"M17.41 7.96l-1.37-1.37c-.4-.4-.92-.59-1.43-.59-.52 0-1.04.2-1.43.59L10.3 9.45l-7.72 7.72c-.78.78-.78 2.05 0 2.83L4 21.41c.39.39.9.59 1.41.59.51 0 1.02-.2 1.41-.59l7.78-7.78 2.81-2.81c.8-.78.8-2.07 0-2.86zM5.41 20L4 18.59l7.72-7.72 1.47 1.35L5.41 20z\"/>\n",
              "  </svg>\n",
              "      </button>\n",
              "      \n",
              "  <style>\n",
              "    .colab-df-container {\n",
              "      display:flex;\n",
              "      flex-wrap:wrap;\n",
              "      gap: 12px;\n",
              "    }\n",
              "\n",
              "    .colab-df-convert {\n",
              "      background-color: #E8F0FE;\n",
              "      border: none;\n",
              "      border-radius: 50%;\n",
              "      cursor: pointer;\n",
              "      display: none;\n",
              "      fill: #1967D2;\n",
              "      height: 32px;\n",
              "      padding: 0 0 0 0;\n",
              "      width: 32px;\n",
              "    }\n",
              "\n",
              "    .colab-df-convert:hover {\n",
              "      background-color: #E2EBFA;\n",
              "      box-shadow: 0px 1px 2px rgba(60, 64, 67, 0.3), 0px 1px 3px 1px rgba(60, 64, 67, 0.15);\n",
              "      fill: #174EA6;\n",
              "    }\n",
              "\n",
              "    [theme=dark] .colab-df-convert {\n",
              "      background-color: #3B4455;\n",
              "      fill: #D2E3FC;\n",
              "    }\n",
              "\n",
              "    [theme=dark] .colab-df-convert:hover {\n",
              "      background-color: #434B5C;\n",
              "      box-shadow: 0px 1px 3px 1px rgba(0, 0, 0, 0.15);\n",
              "      filter: drop-shadow(0px 1px 2px rgba(0, 0, 0, 0.3));\n",
              "      fill: #FFFFFF;\n",
              "    }\n",
              "  </style>\n",
              "\n",
              "      <script>\n",
              "        const buttonEl =\n",
              "          document.querySelector('#df-b798c990-9353-4771-ae2b-dc9247299308 button.colab-df-convert');\n",
              "        buttonEl.style.display =\n",
              "          google.colab.kernel.accessAllowed ? 'block' : 'none';\n",
              "\n",
              "        async function convertToInteractive(key) {\n",
              "          const element = document.querySelector('#df-b798c990-9353-4771-ae2b-dc9247299308');\n",
              "          const dataTable =\n",
              "            await google.colab.kernel.invokeFunction('convertToInteractive',\n",
              "                                                     [key], {});\n",
              "          if (!dataTable) return;\n",
              "\n",
              "          const docLinkHtml = 'Like what you see? Visit the ' +\n",
              "            '<a target=\"_blank\" href=https://colab.research.google.com/notebooks/data_table.ipynb>data table notebook</a>'\n",
              "            + ' to learn more about interactive tables.';\n",
              "          element.innerHTML = '';\n",
              "          dataTable['output_type'] = 'display_data';\n",
              "          await google.colab.output.renderOutput(dataTable, element);\n",
              "          const docLink = document.createElement('div');\n",
              "          docLink.innerHTML = docLinkHtml;\n",
              "          element.appendChild(docLink);\n",
              "        }\n",
              "      </script>\n",
              "    </div>\n",
              "  </div>\n",
              "  "
            ]
          },
          "metadata": {},
          "execution_count": 3
        }
      ]
    },
    {
      "cell_type": "code",
      "source": [
        "df.drop([\"Timestamp\", \"Name\"], axis=1, inplace=True)"
      ],
      "metadata": {
        "id": "wa0e9Knozuyt"
      },
      "execution_count": 4,
      "outputs": []
    },
    {
      "cell_type": "code",
      "source": [
        "target_col = \"What do you think about the quality of food that you order online? Do you consider it healthy? How was your experience consuming it?\" "
      ],
      "metadata": {
        "id": "GIsPEhboz2zA"
      },
      "execution_count": 5,
      "outputs": []
    },
    {
      "cell_type": "code",
      "source": [
        "df.iloc[22][target_col]"
      ],
      "metadata": {
        "colab": {
          "base_uri": "https://localhost:8080/",
          "height": 72
        },
        "id": "qBHxpB1n0AvG",
        "outputId": "68bd5efa-8d23-4a31-a1b4-3be3ac567aaa"
      },
      "execution_count": 6,
      "outputs": [
        {
          "output_type": "execute_result",
          "data": {
            "text/plain": [
              "'Quality of food seems to be fine but not as compared to home food. Ordering food online is considered only for the taste but not much importance is given on health. With the consumption experience it can be on an average scale.'"
            ],
            "application/vnd.google.colaboratory.intrinsic+json": {
              "type": "string"
            }
          },
          "metadata": {},
          "execution_count": 6
        }
      ]
    },
    {
      "cell_type": "code",
      "source": [
        "responses = df[target_col].tolist()"
      ],
      "metadata": {
        "id": "SyR6xi8z2feY"
      },
      "execution_count": 7,
      "outputs": []
    },
    {
      "cell_type": "code",
      "source": [
        "responses[22]"
      ],
      "metadata": {
        "colab": {
          "base_uri": "https://localhost:8080/",
          "height": 72
        },
        "id": "sTPvMMrG2p7A",
        "outputId": "7a21becd-352d-45b5-aa6f-0cd704013d2f"
      },
      "execution_count": 8,
      "outputs": [
        {
          "output_type": "execute_result",
          "data": {
            "text/plain": [
              "'Quality of food seems to be fine but not as compared to home food. Ordering food online is considered only for the taste but not much importance is given on health. With the consumption experience it can be on an average scale.'"
            ],
            "application/vnd.google.colaboratory.intrinsic+json": {
              "type": "string"
            }
          },
          "metadata": {},
          "execution_count": 8
        }
      ]
    },
    {
      "cell_type": "code",
      "source": [
        "nltk.download('punkt')\n",
        "nltk.download('wordnet')\n",
        "nltk.download('omw-1.4')"
      ],
      "metadata": {
        "colab": {
          "base_uri": "https://localhost:8080/"
        },
        "id": "6JwiazVT2wK0",
        "outputId": "24c569b3-e575-4a3a-8648-ecfd42d884cd"
      },
      "execution_count": 9,
      "outputs": [
        {
          "output_type": "stream",
          "name": "stderr",
          "text": [
            "[nltk_data] Downloading package punkt to /root/nltk_data...\n",
            "[nltk_data]   Unzipping tokenizers/punkt.zip.\n",
            "[nltk_data] Downloading package wordnet to /root/nltk_data...\n",
            "[nltk_data] Downloading package omw-1.4 to /root/nltk_data...\n"
          ]
        },
        {
          "output_type": "execute_result",
          "data": {
            "text/plain": [
              "True"
            ]
          },
          "metadata": {},
          "execution_count": 9
        }
      ]
    },
    {
      "cell_type": "code",
      "source": [
        "stop_words = ['a', 'an', 'the', 'and', 'but', 'or', 'if', 'because', 'as', 'until', 'while', 'of', 'at', 'by', 'for', 'with', 'about', 'between', 'into', 'through', 'during', 'before', 'after', 'above', 'below', 'to', 'from', 'in', 'on', 'off', 'over', 'under', 'again', 'further', 'then', 'once', 'here', 'there', 'when', 'where', 'why', 'how', 'all', 'any', 'both', 'each', 'other', 'such', 'only', 'own', 'so', 'than', 'too', 'very', 'can', 'will', 'just', 'should', 'now']"
      ],
      "metadata": {
        "id": "99w1atpr2x8g"
      },
      "execution_count": 10,
      "outputs": []
    },
    {
      "cell_type": "code",
      "source": [
        "def clean_text(response):\n",
        "  response = response.lower()\n",
        "  # response = re.sub('[^A-Za-z]', '', response)\n",
        "  response = re.sub('[^\\w\\s]', '', response)\n",
        "  tokens = word_tokenize(response)\n",
        "  tokens = [token for token in tokens if token not in stop_words]\n",
        "  tokens = [WordNetLemmatizer().lemmatize(token) for token in tokens]\n",
        "  print(tokens)\n",
        "  response = ' '.join(str(token) for token in tokens)\n",
        "  return response"
      ],
      "metadata": {
        "id": "yQFkQ0hL21Mq"
      },
      "execution_count": 11,
      "outputs": []
    },
    {
      "cell_type": "code",
      "source": [
        "X = []\n",
        "y = df['sentiment_scores'].tolist()\n",
        "y_train = y[:100]\n",
        "y_test = y[100:]"
      ],
      "metadata": {
        "id": "tNoAJ9zX4UAa"
      },
      "execution_count": 12,
      "outputs": []
    },
    {
      "cell_type": "code",
      "source": [
        "for response in df[target_col]:\n",
        "  print(clean_text(response))\n",
        "  X.append(clean_text(response))"
      ],
      "metadata": {
        "colab": {
          "base_uri": "https://localhost:8080/"
        },
        "id": "2e_kU2ZL25xi",
        "outputId": "0becf843-78a7-4434-a25d-4c4433308e04"
      },
      "execution_count": 13,
      "outputs": [
        {
          "output_type": "stream",
          "name": "stdout",
          "text": [
            "['it', 'not', 'good']\n",
            "it not good\n",
            "['it', 'not', 'good']\n",
            "['it', 'is', 'good', 'quality']\n",
            "it is good quality\n",
            "['it', 'is', 'good', 'quality']\n",
            "['sort', 'unhealthy']\n",
            "sort unhealthy\n",
            "['sort', 'unhealthy']\n",
            "['definitely', 'not', 'healthy']\n",
            "definitely not healthy\n",
            "['definitely', 'not', 'healthy']\n",
            "['good', 'have', 'it']\n",
            "good have it\n",
            "['good', 'have', 'it']\n",
            "['not', 'good']\n",
            "not good\n",
            "['not', 'good']\n",
            "['i', 'have', 'no', 'experience']\n",
            "i have no experience\n",
            "['i', 'have', 'no', 'experience']\n",
            "['not', 'food', 'are', 'healtier']\n",
            "not food are healtier\n",
            "['not', 'food', 'are', 'healtier']\n",
            "['it', 'is', 'not', 'healthy']\n",
            "it is not healthy\n",
            "['it', 'is', 'not', 'healthy']\n",
            "['no', 'it', 'not']\n",
            "no it not\n",
            "['no', 'it', 'not']\n",
            "['good']\n",
            "good\n",
            "['good']\n",
            "['not', 'healthy']\n",
            "not healthy\n",
            "['not', 'healthy']\n",
            "['healthy']\n",
            "healthy\n",
            "['healthy']\n",
            "['it', 'not', 'healthy']\n",
            "it not healthy\n",
            "['it', 'not', 'healthy']\n",
            "['not', 'healthy']\n",
            "not healthy\n",
            "['not', 'healthy']\n",
            "['it', 'is', 'partially', 'unhealthy', 'since', 'they', 'use', 'more', 'artificial', 'factor', 'food']\n",
            "it is partially unhealthy since they use more artificial factor food\n",
            "['it', 'is', 'partially', 'unhealthy', 'since', 'they', 'use', 'more', 'artificial', 'factor', 'food']\n",
            "['unhygienic']\n",
            "unhygienic\n",
            "['unhygienic']\n",
            "['quality', 'food', 'depends', 'price', 'it', 'come', 'healthiness', 'it', 'not', 'good', 'my', 'experience', 'consuming', 'food', 'ordering', 'online', 'is', 'average']\n",
            "quality food depends price it come healthiness it not good my experience consuming food ordering online is average\n",
            "['quality', 'food', 'depends', 'price', 'it', 'come', 'healthiness', 'it', 'not', 'good', 'my', 'experience', 'consuming', 'food', 'ordering', 'online', 'is', 'average']\n",
            "['unhealthy']\n",
            "unhealthy\n",
            "['unhealthy']\n",
            "['not', 'healthy', 'it', 'is', 'packed', 'plastic']\n",
            "not healthy it is packed plastic\n",
            "['not', 'healthy', 'it', 'is', 'packed', 'plastic']\n",
            "['not', 'healthy']\n",
            "not healthy\n",
            "['not', 'healthy']\n",
            "['it', 'is', 'healthy', 'based', 'food', 'we', 'order']\n",
            "it is healthy based food we order\n",
            "['it', 'is', 'healthy', 'based', 'food', 'we', 'order']\n",
            "['quality', 'food', 'seems', 'be', 'fine', 'not', 'compared', 'home', 'food', 'ordering', 'food', 'online', 'is', 'considered', 'taste', 'not', 'much', 'importance', 'is', 'given', 'health', 'consumption', 'experience', 'it', 'be', 'average', 'scale']\n",
            "quality food seems be fine not compared home food ordering food online is considered taste not much importance is given health consumption experience it be average scale\n",
            "['quality', 'food', 'seems', 'be', 'fine', 'not', 'compared', 'home', 'food', 'ordering', 'food', 'online', 'is', 'considered', 'taste', 'not', 'much', 'importance', 'is', 'given', 'health', 'consumption', 'experience', 'it', 'be', 'average', 'scale']\n",
            "['it', 'definitely', 'not', 'healthy']\n",
            "it definitely not healthy\n",
            "['it', 'definitely', 'not', 'healthy']\n",
            "['not', 'soo', 'good']\n",
            "not soo good\n",
            "['not', 'soo', 'good']\n",
            "['not', 'healthy', 'fresh']\n",
            "not healthy fresh\n",
            "['not', 'healthy', 'fresh']\n",
            "['taste', 'good', 'not', 'healthy']\n",
            "taste good not healthy\n",
            "['taste', 'good', 'not', 'healthy']\n",
            "['i', 'havent', 'ordered', 'food', 'online']\n",
            "i havent ordered food online\n",
            "['i', 'havent', 'ordered', 'food', 'online']\n",
            "['good']\n",
            "good\n",
            "['good']\n",
            "['good']\n",
            "good\n",
            "['good']\n",
            "['it', 'is', 'good', 'eat']\n",
            "it is good eat\n",
            "['it', 'is', 'good', 'eat']\n",
            "['sometimes', 'healthy', 'sometimes', 'unhealthy']\n",
            "sometimes healthy sometimes unhealthy\n",
            "['sometimes', 'healthy', 'sometimes', 'unhealthy']\n",
            "['yeah', 'it', 'wa', 'good', 'not', 'sure', 'it', 'wa', 'healthy']\n",
            "yeah it wa good not sure it wa healthy\n",
            "['yeah', 'it', 'wa', 'good', 'not', 'sure', 'it', 'wa', 'healthy']\n",
            "['quality', 'is', 'moderateit', 'may', 'be', 'healthy']\n",
            "quality is moderateit may be healthy\n",
            "['quality', 'is', 'moderateit', 'may', 'be', 'healthy']\n",
            "['it', 'wa', 'not', 'up', 'quality', 'lack', 'taste', 'spicy', 'unable', 'eat']\n",
            "it wa not up quality lack taste spicy unable eat\n",
            "['it', 'wa', 'not', 'up', 'quality', 'lack', 'taste', 'spicy', 'unable', 'eat']\n",
            "['no', 'restaurant', 'arent', 'concerned', 'hygiene']\n",
            "no restaurant arent concerned hygiene\n",
            "['no', 'restaurant', 'arent', 'concerned', 'hygiene']\n",
            "['it', 'is', 'based', 'restaurant', 'choice']\n",
            "it is based restaurant choice\n",
            "['it', 'is', 'based', 'restaurant', 'choice']\n",
            "['unhealthy']\n",
            "unhealthy\n",
            "['unhealthy']\n",
            "['no', 'it', 'not', 'healthy']\n",
            "no it not healthy\n",
            "['no', 'it', 'not', 'healthy']\n",
            "['based', 'restaurant']\n",
            "based restaurant\n",
            "['based', 'restaurant']\n",
            "['quality', 'be', 'improved']\n",
            "quality be improved\n",
            "['quality', 'be', 'improved']\n",
            "['average']\n",
            "average\n",
            "['average']\n",
            "['good']\n",
            "good\n",
            "['good']\n",
            "['quality', 'decentits', 'mostly', 'unhealthy']\n",
            "quality decentits mostly unhealthy\n",
            "['quality', 'decentits', 'mostly', 'unhealthy']\n",
            "['ordering', 'online', 'doesnt', 'provide', 'u', 'healthy', 'food', 'bcz', 'some', 'critical', 'condition', 'we', 'go', 'ordering', 'wise', 'cooking', 'be', 'better']\n",
            "ordering online doesnt provide u healthy food bcz some critical condition we go ordering wise cooking be better\n",
            "['ordering', 'online', 'doesnt', 'provide', 'u', 'healthy', 'food', 'bcz', 'some', 'critical', 'condition', 'we', 'go', 'ordering', 'wise', 'cooking', 'be', 'better']\n",
            "['bad']\n",
            "bad\n",
            "['bad']\n",
            "['no', 'not', 'healthy']\n",
            "no not healthy\n",
            "['no', 'not', 'healthy']\n",
            "['though', 'we', 'order', 'it', 'online', 'it', 'originally', 'come', 'restaurant', 'food', 'that', 'is', 'not', 'made', 'home', 'is', 'not', 'suggested', 'be', 'good']\n",
            "though we order it online it originally come restaurant food that is not made home is not suggested be good\n",
            "['though', 'we', 'order', 'it', 'online', 'it', 'originally', 'come', 'restaurant', 'food', 'that', 'is', 'not', 'made', 'home', 'is', 'not', 'suggested', 'be', 'good']\n",
            "['not', 'healthy']\n",
            "not healthy\n",
            "['not', 'healthy']\n",
            "['it', 'is', 'good', 'sometimes', 'i', 'think', 'they', 'sometimes', 'give', 'preday', 'prepared', 'food']\n",
            "it is good sometimes i think they sometimes give preday prepared food\n",
            "['it', 'is', 'good', 'sometimes', 'i', 'think', 'they', 'sometimes', 'give', 'preday', 'prepared', 'food']\n",
            "['non', 'healthy']\n",
            "non healthy\n",
            "['non', 'healthy']\n",
            "['average']\n",
            "average\n",
            "['average']\n",
            "['unhealthy']\n",
            "unhealthy\n",
            "['unhealthy']\n",
            "['i', 'consider', 'it', 'clean', 'healthy', 'not', 'sure']\n",
            "i consider it clean healthy not sure\n",
            "['i', 'consider', 'it', 'clean', 'healthy', 'not', 'sure']\n",
            "['we', 'assume', 'that', 'food', 'ordered', 'be', 'quality', 'it', 'may', 'miss', 'sometimes', 'i', 'didnt', 'face', 'situation', 'like', 'that']\n",
            "we assume that food ordered be quality it may miss sometimes i didnt face situation like that\n",
            "['we', 'assume', 'that', 'food', 'ordered', 'be', 'quality', 'it', 'may', 'miss', 'sometimes', 'i', 'didnt', 'face', 'situation', 'like', 'that']\n",
            "['good', 'not', 'much', 'healthy']\n",
            "good not much healthy\n",
            "['good', 'not', 'much', 'healthy']\n",
            "['i', 'think', 'it', 'is', 'healthy', 'depends', 'restaurant', 'you', 'order', 'food']\n",
            "i think it is healthy depends restaurant you order food\n",
            "['i', 'think', 'it', 'is', 'healthy', 'depends', 'restaurant', 'you', 'order', 'food']\n",
            "['i', 'order', 'food', 'online', 'choosing', 'well', 'known', 'restaurant', 'good', 'rating', 'restaurant', 'tooyes', 'it', 'healthyexperience', 'wa', 'short', 'period', 'time']\n",
            "i order food online choosing well known restaurant good rating restaurant tooyes it healthyexperience wa short period time\n",
            "['i', 'order', 'food', 'online', 'choosing', 'well', 'known', 'restaurant', 'good', 'rating', 'restaurant', 'tooyes', 'it', 'healthyexperience', 'wa', 'short', 'period', 'time']\n",
            "['not', 'good']\n",
            "not good\n",
            "['not', 'good']\n",
            "['good']\n",
            "good\n",
            "['good']\n",
            "['definitely', 'it', 'not', 'be', 'healthy', 'yet', 'sometimes', 'we', 'have', 'order', 'food', 'online', 'not', 'regularly', 'rarely']\n",
            "definitely it not be healthy yet sometimes we have order food online not regularly rarely\n",
            "['definitely', 'it', 'not', 'be', 'healthy', 'yet', 'sometimes', 'we', 'have', 'order', 'food', 'online', 'not', 'regularly', 'rarely']\n",
            "['it', 'is', 'not', 'healthybut', 'i', 'like', 'eat', 'fast', 'food']\n",
            "it is not healthybut i like eat fast food\n",
            "['it', 'is', 'not', 'healthybut', 'i', 'like', 'eat', 'fast', 'food']\n",
            "['not', 'healthy']\n",
            "not healthy\n",
            "['not', 'healthy']\n",
            "['depends']\n",
            "depends\n",
            "['depends']\n",
            "['sometimes', 'good']\n",
            "sometimes good\n",
            "['sometimes', 'good']\n",
            "['good']\n",
            "good\n",
            "['good']\n",
            "['not', 'time', 'they', 'are', 'healthy', 'sometimes', 'quality', 'food', 'seems', 'good']\n",
            "not time they are healthy sometimes quality food seems good\n",
            "['not', 'time', 'they', 'are', 'healthy', 'sometimes', 'quality', 'food', 'seems', 'good']\n",
            "['we', 'dont', 'see', 'they', 'do', 'pack', 'it', 'we', 'cant', 'assure', 'quality', 'online', 'food']\n",
            "we dont see they do pack it we cant assure quality online food\n",
            "['we', 'dont', 'see', 'they', 'do', 'pack', 'it', 'we', 'cant', 'assure', 'quality', 'online', 'food']\n",
            "['not', 'healthy', 'food', 'we', 'order', 'online']\n",
            "not healthy food we order online\n",
            "['not', 'healthy', 'food', 'we', 'order', 'online']\n",
            "['i', 'consider', 'it', 'healthy']\n",
            "i consider it healthy\n",
            "['i', 'consider', 'it', 'healthy']\n",
            "['it', 'ok', 'not', 'regular', 'basis']\n",
            "it ok not regular basis\n",
            "['it', 'ok', 'not', 'regular', 'basis']\n",
            "['i', 'buy', 'fast', 'food', 'online', 'that', 'is', 'not', 'healthy', 'satisfy', 'my', 'craving']\n",
            "i buy fast food online that is not healthy satisfy my craving\n",
            "['i', 'buy', 'fast', 'food', 'online', 'that', 'is', 'not', 'healthy', 'satisfy', 'my', 'craving']\n",
            "['not', 'good', 'not', 'badbut', 'have', 'question', 'that', 'is', 'this', 'really', 'hygienic']\n",
            "not good not badbut have question that is this really hygienic\n",
            "['not', 'good', 'not', 'badbut', 'have', 'question', 'that', 'is', 'this', 'really', 'hygienic']\n",
            "['some', 'are', 'healthy']\n",
            "some are healthy\n",
            "['some', 'are', 'healthy']\n",
            "['not', 'always', 'good']\n",
            "not always good\n",
            "['not', 'always', 'good']\n",
            "['it', 'not', 'healthy', 'it', 'be', 'delicious']\n",
            "it not healthy it be delicious\n",
            "['it', 'not', 'healthy', 'it', 'be', 'delicious']\n",
            "['no', 'i', 'prefer', 'homemade', 'food']\n",
            "no i prefer homemade food\n",
            "['no', 'i', 'prefer', 'homemade', 'food']\n",
            "['not', 'healthy']\n",
            "not healthy\n",
            "['not', 'healthy']\n",
            "['quality', 'is', 'good', 'i', 'not', 'consider', 'buying', 'food', 'online', 'is', 'healthy']\n",
            "quality is good i not consider buying food online is healthy\n",
            "['quality', 'is', 'good', 'i', 'not', 'consider', 'buying', 'food', 'online', 'is', 'healthy']\n",
            "['not', 'healthy']\n",
            "not healthy\n",
            "['not', 'healthy']\n",
            "['le', 'quality']\n",
            "le quality\n",
            "['le', 'quality']\n",
            "['i', 'wont', 'often', 'order', 'food', 'online']\n",
            "i wont often order food online\n",
            "['i', 'wont', 'often', 'order', 'food', 'online']\n",
            "['quiet', 'good', 'quality', 'not', 'much', 'healthy']\n",
            "quiet good quality not much healthy\n",
            "['quiet', 'good', 'quality', 'not', 'much', 'healthy']\n",
            "['quality', 'food', 'good', 'according', 'restaurant', 'we', 'choose', 'order', 'i', 'guess', 'it', 'not', 'that', 'much', 'healthy', 'consume']\n",
            "quality food good according restaurant we choose order i guess it not that much healthy consume\n",
            "['quality', 'food', 'good', 'according', 'restaurant', 'we', 'choose', 'order', 'i', 'guess', 'it', 'not', 'that', 'much', 'healthy', 'consume']\n",
            "['unhealthy']\n",
            "unhealthy\n",
            "['unhealthy']\n",
            "['it', 'feel', 'same', 'restaurant', 'food', 'neither', 'healthy', 'nor', 'unhealthy']\n",
            "it feel same restaurant food neither healthy nor unhealthy\n",
            "['it', 'feel', 'same', 'restaurant', 'food', 'neither', 'healthy', 'nor', 'unhealthy']\n",
            "['no', 'idea']\n",
            "no idea\n",
            "['no', 'idea']\n",
            "['not', 'healthy']\n",
            "not healthy\n",
            "['not', 'healthy']\n",
            "['quality', 'is', 'good', 'i', 'know', 'it', 'not', 'healthy', 'it', 'may', 'seem', 'good', 'definitely', 'it', 'not']\n",
            "quality is good i know it not healthy it may seem good definitely it not\n",
            "['quality', 'is', 'good', 'i', 'know', 'it', 'not', 'healthy', 'it', 'may', 'seem', 'good', 'definitely', 'it', 'not']\n",
            "['taste', 'wise', 'good', 'moreover', 'thatit', 'is', 'unhealthy']\n",
            "taste wise good moreover thatit is unhealthy\n",
            "['taste', 'wise', 'good', 'moreover', 'thatit', 'is', 'unhealthy']\n",
            "['sometimes', 'my', 'stomach', 'experience', 'burning', 'sensation', 'sometime']\n",
            "sometimes my stomach experience burning sensation sometime\n",
            "['sometimes', 'my', 'stomach', 'experience', 'burning', 'sensation', 'sometime']\n",
            "['nil']\n",
            "nil\n",
            "['nil']\n",
            "['no']\n",
            "no\n",
            "['no']\n",
            "['unhealthy', 'poor', 'quality']\n",
            "unhealthy poor quality\n",
            "['unhealthy', 'poor', 'quality']\n",
            "['no']\n",
            "no\n",
            "['no']\n",
            "['am', 'order', 'online', 'occasionally']\n",
            "am order online occasionally\n",
            "['am', 'order', 'online', 'occasionally']\n",
            "['good']\n",
            "good\n",
            "['good']\n",
            "['unhealthy']\n",
            "unhealthy\n",
            "['unhealthy']\n",
            "['i', 'dont', 'order', 'online', 'food']\n",
            "i dont order online food\n",
            "['i', 'dont', 'order', 'online', 'food']\n",
            "['nothing']\n",
            "nothing\n",
            "['nothing']\n",
            "['sometimes', 'good']\n",
            "sometimes good\n",
            "['sometimes', 'good']\n",
            "['good']\n",
            "good\n",
            "['good']\n",
            "['good']\n",
            "good\n",
            "['good']\n",
            "['theyre', 'not', 'healthy']\n",
            "theyre not healthy\n",
            "['theyre', 'not', 'healthy']\n",
            "['no', 'it', 'not', 'healthyand', 'sometimes', 'it', 'cause', 'indigestion']\n",
            "no it not healthyand sometimes it cause indigestion\n",
            "['no', 'it', 'not', 'healthyand', 'sometimes', 'it', 'cause', 'indigestion']\n",
            "['good']\n",
            "good\n",
            "['good']\n",
            "['low', 'quality']\n",
            "low quality\n",
            "['low', 'quality']\n",
            "['unhealthy']\n",
            "unhealthy\n",
            "['unhealthy']\n",
            "['unhealthy']\n",
            "unhealthy\n",
            "['unhealthy']\n",
            "['i', 'couldnt', 'know', 'order', 'item', 'they', 'prepare', 'deliver', 'it', 'like', 'homemade', 'food', 'they', 'provide', 'good', 'nutritional', 'content', 'shop', 'they', 'provided', 'adding', 'some', 'food', 'colour', 'make', 'that', 'food', 'colourful', 'they', 'they', 'use', 'chemical', 'content', 'like', 'ajinomotobaking', 'sodaetc', 'i', 'feel', 'unhealthy', 'consume', 'those', 'food', 'online', 'food', 'delivery', 'system', 'is', 'business', 'we', 'people', 'took', 'that', 'positive', 'we', 'are', 'order', 'food', 'major', 'advantage', 'people', 'were', 'ordering', 'food', 'online', 'is', 'spend', 'le', 'time', 'is', 'no', 'need', 'cleaning', 'vessel', 'kitchen', 'no', 'need', 'cut', 'vegetable', 'they', 'provide', 'food', 'low', 'cost']\n",
            "i couldnt know order item they prepare deliver it like homemade food they provide good nutritional content shop they provided adding some food colour make that food colourful they they use chemical content like ajinomotobaking sodaetc i feel unhealthy consume those food online food delivery system is business we people took that positive we are order food major advantage people were ordering food online is spend le time is no need cleaning vessel kitchen no need cut vegetable they provide food low cost\n",
            "['i', 'couldnt', 'know', 'order', 'item', 'they', 'prepare', 'deliver', 'it', 'like', 'homemade', 'food', 'they', 'provide', 'good', 'nutritional', 'content', 'shop', 'they', 'provided', 'adding', 'some', 'food', 'colour', 'make', 'that', 'food', 'colourful', 'they', 'they', 'use', 'chemical', 'content', 'like', 'ajinomotobaking', 'sodaetc', 'i', 'feel', 'unhealthy', 'consume', 'those', 'food', 'online', 'food', 'delivery', 'system', 'is', 'business', 'we', 'people', 'took', 'that', 'positive', 'we', 'are', 'order', 'food', 'major', 'advantage', 'people', 'were', 'ordering', 'food', 'online', 'is', 'spend', 'le', 'time', 'is', 'no', 'need', 'cleaning', 'vessel', 'kitchen', 'no', 'need', 'cut', 'vegetable', 'they', 'provide', 'food', 'low', 'cost']\n",
            "['it', 'is', 'expensive', 'le', 'quantity']\n",
            "it is expensive le quantity\n",
            "['it', 'is', 'expensive', 'le', 'quantity']\n",
            "['good']\n",
            "good\n",
            "['good']\n",
            "['depends', 'what', 'i', 'order']\n",
            "depends what i order\n",
            "['depends', 'what', 'i', 'order']\n"
          ]
        }
      ]
    },
    {
      "cell_type": "code",
      "source": [
        "X_train = np.array(X_train)"
      ],
      "metadata": {
        "id": "isI20hjC7Jfc"
      },
      "execution_count": 67,
      "outputs": []
    },
    {
      "cell_type": "code",
      "source": [
        "X, y_train"
      ],
      "metadata": {
        "colab": {
          "base_uri": "https://localhost:8080/"
        },
        "id": "iJcXeJnz4L5K",
        "outputId": "5af76537-2b41-4e8e-f5d1-f18b8c225371"
      },
      "execution_count": 14,
      "outputs": [
        {
          "output_type": "execute_result",
          "data": {
            "text/plain": [
              "(['it not good',\n",
              "  'it is good quality',\n",
              "  'sort unhealthy',\n",
              "  'definitely not healthy',\n",
              "  'good have it',\n",
              "  'not good',\n",
              "  'i have no experience',\n",
              "  'not food are healtier',\n",
              "  'it is not healthy',\n",
              "  'no it not',\n",
              "  'good',\n",
              "  'not healthy',\n",
              "  'healthy',\n",
              "  'it not healthy',\n",
              "  'not healthy',\n",
              "  'it is partially unhealthy since they use more artificial factor food',\n",
              "  'unhygienic',\n",
              "  'quality food depends price it come healthiness it not good my experience consuming food ordering online is average',\n",
              "  'unhealthy',\n",
              "  'not healthy it is packed plastic',\n",
              "  'not healthy',\n",
              "  'it is healthy based food we order',\n",
              "  'quality food seems be fine not compared home food ordering food online is considered taste not much importance is given health consumption experience it be average scale',\n",
              "  'it definitely not healthy',\n",
              "  'not soo good',\n",
              "  'not healthy fresh',\n",
              "  'taste good not healthy',\n",
              "  'i havent ordered food online',\n",
              "  'good',\n",
              "  'good',\n",
              "  'it is good eat',\n",
              "  'sometimes healthy sometimes unhealthy',\n",
              "  'yeah it wa good not sure it wa healthy',\n",
              "  'quality is moderateit may be healthy',\n",
              "  'it wa not up quality lack taste spicy unable eat',\n",
              "  'no restaurant arent concerned hygiene',\n",
              "  'it is based restaurant choice',\n",
              "  'unhealthy',\n",
              "  'no it not healthy',\n",
              "  'based restaurant',\n",
              "  'quality be improved',\n",
              "  'average',\n",
              "  'good',\n",
              "  'quality decentits mostly unhealthy',\n",
              "  'ordering online doesnt provide u healthy food bcz some critical condition we go ordering wise cooking be better',\n",
              "  'bad',\n",
              "  'no not healthy',\n",
              "  'though we order it online it originally come restaurant food that is not made home is not suggested be good',\n",
              "  'not healthy',\n",
              "  'it is good sometimes i think they sometimes give preday prepared food',\n",
              "  'non healthy',\n",
              "  'average',\n",
              "  'unhealthy',\n",
              "  'i consider it clean healthy not sure',\n",
              "  'we assume that food ordered be quality it may miss sometimes i didnt face situation like that',\n",
              "  'good not much healthy',\n",
              "  'i think it is healthy depends restaurant you order food',\n",
              "  'i order food online choosing well known restaurant good rating restaurant tooyes it healthyexperience wa short period time',\n",
              "  'not good',\n",
              "  'good',\n",
              "  'definitely it not be healthy yet sometimes we have order food online not regularly rarely',\n",
              "  'it is not healthybut i like eat fast food',\n",
              "  'not healthy',\n",
              "  'depends',\n",
              "  'sometimes good',\n",
              "  'good',\n",
              "  'not time they are healthy sometimes quality food seems good',\n",
              "  'we dont see they do pack it we cant assure quality online food',\n",
              "  'not healthy food we order online',\n",
              "  'i consider it healthy',\n",
              "  'it ok not regular basis',\n",
              "  'i buy fast food online that is not healthy satisfy my craving',\n",
              "  'not good not badbut have question that is this really hygienic',\n",
              "  'some are healthy',\n",
              "  'not always good',\n",
              "  'it not healthy it be delicious',\n",
              "  'no i prefer homemade food',\n",
              "  'not healthy',\n",
              "  'quality is good i not consider buying food online is healthy',\n",
              "  'not healthy',\n",
              "  'le quality',\n",
              "  'i wont often order food online',\n",
              "  'quiet good quality not much healthy',\n",
              "  'quality food good according restaurant we choose order i guess it not that much healthy consume',\n",
              "  'unhealthy',\n",
              "  'it feel same restaurant food neither healthy nor unhealthy',\n",
              "  'no idea',\n",
              "  'not healthy',\n",
              "  'quality is good i know it not healthy it may seem good definitely it not',\n",
              "  'taste wise good moreover thatit is unhealthy',\n",
              "  'sometimes my stomach experience burning sensation sometime',\n",
              "  'nil',\n",
              "  'no',\n",
              "  'unhealthy poor quality',\n",
              "  'no',\n",
              "  'am order online occasionally',\n",
              "  'good',\n",
              "  'unhealthy',\n",
              "  'i dont order online food',\n",
              "  'nothing',\n",
              "  'sometimes good',\n",
              "  'good',\n",
              "  'good',\n",
              "  'theyre not healthy',\n",
              "  'no it not healthyand sometimes it cause indigestion',\n",
              "  'good',\n",
              "  'low quality',\n",
              "  'unhealthy',\n",
              "  'unhealthy',\n",
              "  'i couldnt know order item they prepare deliver it like homemade food they provide good nutritional content shop they provided adding some food colour make that food colourful they they use chemical content like ajinomotobaking sodaetc i feel unhealthy consume those food online food delivery system is business we people took that positive we are order food major advantage people were ordering food online is spend le time is no need cleaning vessel kitchen no need cut vegetable they provide food low cost',\n",
              "  'it is expensive le quantity',\n",
              "  'good',\n",
              "  'depends what i order'],\n",
              " [-1,\n",
              "  1,\n",
              "  -1,\n",
              "  -1,\n",
              "  1,\n",
              "  -1,\n",
              "  0,\n",
              "  0,\n",
              "  -1,\n",
              "  -1,\n",
              "  1,\n",
              "  -1,\n",
              "  1,\n",
              "  -1,\n",
              "  -1,\n",
              "  0,\n",
              "  -1,\n",
              "  -1,\n",
              "  -1,\n",
              "  -1,\n",
              "  -1,\n",
              "  1,\n",
              "  0,\n",
              "  -1,\n",
              "  0,\n",
              "  0,\n",
              "  -1,\n",
              "  0,\n",
              "  1,\n",
              "  1,\n",
              "  1,\n",
              "  0,\n",
              "  0,\n",
              "  0,\n",
              "  -1,\n",
              "  -1,\n",
              "  0,\n",
              "  -1,\n",
              "  -1,\n",
              "  0,\n",
              "  0,\n",
              "  0,\n",
              "  1,\n",
              "  -1,\n",
              "  -1,\n",
              "  -1,\n",
              "  -1,\n",
              "  0,\n",
              "  -1,\n",
              "  0,\n",
              "  -1,\n",
              "  0,\n",
              "  -1,\n",
              "  0,\n",
              "  1,\n",
              "  0,\n",
              "  1,\n",
              "  1,\n",
              "  -1,\n",
              "  -1,\n",
              "  -1,\n",
              "  -1,\n",
              "  -1,\n",
              "  0,\n",
              "  0,\n",
              "  1,\n",
              "  0,\n",
              "  0,\n",
              "  -1,\n",
              "  1,\n",
              "  0,\n",
              "  -1,\n",
              "  -1,\n",
              "  0,\n",
              "  0,\n",
              "  -1,\n",
              "  -1,\n",
              "  -1,\n",
              "  1,\n",
              "  -1,\n",
              "  -1,\n",
              "  0,\n",
              "  -1,\n",
              "  0,\n",
              "  -1,\n",
              "  0,\n",
              "  0,\n",
              "  -1,\n",
              "  -1,\n",
              "  -1,\n",
              "  -1,\n",
              "  0,\n",
              "  -1,\n",
              "  -1,\n",
              "  -1,\n",
              "  0,\n",
              "  1,\n",
              "  -1,\n",
              "  0,\n",
              "  0])"
            ]
          },
          "metadata": {},
          "execution_count": 14
        }
      ]
    },
    {
      "cell_type": "code",
      "source": [
        "X_train = X[:100]\n",
        "X_test = X[100:]"
      ],
      "metadata": {
        "id": "Yt_60Wu0Mo6C"
      },
      "execution_count": 15,
      "outputs": []
    },
    {
      "cell_type": "code",
      "source": [
        "len(X_train),len(X_test)"
      ],
      "metadata": {
        "colab": {
          "base_uri": "https://localhost:8080/"
        },
        "id": "IUWrzWbEHtiK",
        "outputId": "76f8ea56-5d09-48b9-d55e-2e099c0ab9c7"
      },
      "execution_count": 16,
      "outputs": [
        {
          "output_type": "execute_result",
          "data": {
            "text/plain": [
              "(100, 13)"
            ]
          },
          "metadata": {},
          "execution_count": 16
        }
      ]
    },
    {
      "cell_type": "code",
      "source": [
        "from sklearn.feature_extraction.text import CountVectorizer\n",
        "cv = CountVectorizer()\n",
        "X_train_count = cv.fit_transform(X_train).toarray()\n",
        "X_test_count = cv.transform(X_test).toarray()"
      ],
      "metadata": {
        "id": "tXdqUDeP8Zpx"
      },
      "execution_count": 17,
      "outputs": []
    },
    {
      "cell_type": "code",
      "source": [
        "from sklearn.naive_bayes import MultinomialNB\n",
        "mn = MultinomialNB()\n",
        "mn.fit(X_train_count, y_train)"
      ],
      "metadata": {
        "colab": {
          "base_uri": "https://localhost:8080/",
          "height": 74
        },
        "id": "z_VymQ99Bmjf",
        "outputId": "a47d4164-fc7c-499d-a539-1f5f67171e2a"
      },
      "execution_count": 18,
      "outputs": [
        {
          "output_type": "execute_result",
          "data": {
            "text/plain": [
              "MultinomialNB()"
            ],
            "text/html": [
              "<style>#sk-container-id-1 {color: black;background-color: white;}#sk-container-id-1 pre{padding: 0;}#sk-container-id-1 div.sk-toggleable {background-color: white;}#sk-container-id-1 label.sk-toggleable__label {cursor: pointer;display: block;width: 100%;margin-bottom: 0;padding: 0.3em;box-sizing: border-box;text-align: center;}#sk-container-id-1 label.sk-toggleable__label-arrow:before {content: \"▸\";float: left;margin-right: 0.25em;color: #696969;}#sk-container-id-1 label.sk-toggleable__label-arrow:hover:before {color: black;}#sk-container-id-1 div.sk-estimator:hover label.sk-toggleable__label-arrow:before {color: black;}#sk-container-id-1 div.sk-toggleable__content {max-height: 0;max-width: 0;overflow: hidden;text-align: left;background-color: #f0f8ff;}#sk-container-id-1 div.sk-toggleable__content pre {margin: 0.2em;color: black;border-radius: 0.25em;background-color: #f0f8ff;}#sk-container-id-1 input.sk-toggleable__control:checked~div.sk-toggleable__content {max-height: 200px;max-width: 100%;overflow: auto;}#sk-container-id-1 input.sk-toggleable__control:checked~label.sk-toggleable__label-arrow:before {content: \"▾\";}#sk-container-id-1 div.sk-estimator input.sk-toggleable__control:checked~label.sk-toggleable__label {background-color: #d4ebff;}#sk-container-id-1 div.sk-label input.sk-toggleable__control:checked~label.sk-toggleable__label {background-color: #d4ebff;}#sk-container-id-1 input.sk-hidden--visually {border: 0;clip: rect(1px 1px 1px 1px);clip: rect(1px, 1px, 1px, 1px);height: 1px;margin: -1px;overflow: hidden;padding: 0;position: absolute;width: 1px;}#sk-container-id-1 div.sk-estimator {font-family: monospace;background-color: #f0f8ff;border: 1px dotted black;border-radius: 0.25em;box-sizing: border-box;margin-bottom: 0.5em;}#sk-container-id-1 div.sk-estimator:hover {background-color: #d4ebff;}#sk-container-id-1 div.sk-parallel-item::after {content: \"\";width: 100%;border-bottom: 1px solid gray;flex-grow: 1;}#sk-container-id-1 div.sk-label:hover label.sk-toggleable__label {background-color: #d4ebff;}#sk-container-id-1 div.sk-serial::before {content: \"\";position: absolute;border-left: 1px solid gray;box-sizing: border-box;top: 0;bottom: 0;left: 50%;z-index: 0;}#sk-container-id-1 div.sk-serial {display: flex;flex-direction: column;align-items: center;background-color: white;padding-right: 0.2em;padding-left: 0.2em;position: relative;}#sk-container-id-1 div.sk-item {position: relative;z-index: 1;}#sk-container-id-1 div.sk-parallel {display: flex;align-items: stretch;justify-content: center;background-color: white;position: relative;}#sk-container-id-1 div.sk-item::before, #sk-container-id-1 div.sk-parallel-item::before {content: \"\";position: absolute;border-left: 1px solid gray;box-sizing: border-box;top: 0;bottom: 0;left: 50%;z-index: -1;}#sk-container-id-1 div.sk-parallel-item {display: flex;flex-direction: column;z-index: 1;position: relative;background-color: white;}#sk-container-id-1 div.sk-parallel-item:first-child::after {align-self: flex-end;width: 50%;}#sk-container-id-1 div.sk-parallel-item:last-child::after {align-self: flex-start;width: 50%;}#sk-container-id-1 div.sk-parallel-item:only-child::after {width: 0;}#sk-container-id-1 div.sk-dashed-wrapped {border: 1px dashed gray;margin: 0 0.4em 0.5em 0.4em;box-sizing: border-box;padding-bottom: 0.4em;background-color: white;}#sk-container-id-1 div.sk-label label {font-family: monospace;font-weight: bold;display: inline-block;line-height: 1.2em;}#sk-container-id-1 div.sk-label-container {text-align: center;}#sk-container-id-1 div.sk-container {/* jupyter's `normalize.less` sets `[hidden] { display: none; }` but bootstrap.min.css set `[hidden] { display: none !important; }` so we also need the `!important` here to be able to override the default hidden behavior on the sphinx rendered scikit-learn.org. See: https://github.com/scikit-learn/scikit-learn/issues/21755 */display: inline-block !important;position: relative;}#sk-container-id-1 div.sk-text-repr-fallback {display: none;}</style><div id=\"sk-container-id-1\" class=\"sk-top-container\"><div class=\"sk-text-repr-fallback\"><pre>MultinomialNB()</pre><b>In a Jupyter environment, please rerun this cell to show the HTML representation or trust the notebook. <br />On GitHub, the HTML representation is unable to render, please try loading this page with nbviewer.org.</b></div><div class=\"sk-container\" hidden><div class=\"sk-item\"><div class=\"sk-estimator sk-toggleable\"><input class=\"sk-toggleable__control sk-hidden--visually\" id=\"sk-estimator-id-1\" type=\"checkbox\" checked><label for=\"sk-estimator-id-1\" class=\"sk-toggleable__label sk-toggleable__label-arrow\">MultinomialNB</label><div class=\"sk-toggleable__content\"><pre>MultinomialNB()</pre></div></div></div></div></div>"
            ]
          },
          "metadata": {},
          "execution_count": 18
        }
      ]
    },
    {
      "cell_type": "code",
      "source": [
        "from sklearn.svm import SVC\n",
        "svm = SVC(kernel='linear')\n",
        "svm.fit(X_train_count, y_train)"
      ],
      "metadata": {
        "colab": {
          "base_uri": "https://localhost:8080/",
          "height": 74
        },
        "id": "3ow0WPs6Rh28",
        "outputId": "fb924163-dd74-4863-f405-d450f5d9004b"
      },
      "execution_count": 19,
      "outputs": [
        {
          "output_type": "execute_result",
          "data": {
            "text/plain": [
              "SVC(kernel='linear')"
            ],
            "text/html": [
              "<style>#sk-container-id-2 {color: black;background-color: white;}#sk-container-id-2 pre{padding: 0;}#sk-container-id-2 div.sk-toggleable {background-color: white;}#sk-container-id-2 label.sk-toggleable__label {cursor: pointer;display: block;width: 100%;margin-bottom: 0;padding: 0.3em;box-sizing: border-box;text-align: center;}#sk-container-id-2 label.sk-toggleable__label-arrow:before {content: \"▸\";float: left;margin-right: 0.25em;color: #696969;}#sk-container-id-2 label.sk-toggleable__label-arrow:hover:before {color: black;}#sk-container-id-2 div.sk-estimator:hover label.sk-toggleable__label-arrow:before {color: black;}#sk-container-id-2 div.sk-toggleable__content {max-height: 0;max-width: 0;overflow: hidden;text-align: left;background-color: #f0f8ff;}#sk-container-id-2 div.sk-toggleable__content pre {margin: 0.2em;color: black;border-radius: 0.25em;background-color: #f0f8ff;}#sk-container-id-2 input.sk-toggleable__control:checked~div.sk-toggleable__content {max-height: 200px;max-width: 100%;overflow: auto;}#sk-container-id-2 input.sk-toggleable__control:checked~label.sk-toggleable__label-arrow:before {content: \"▾\";}#sk-container-id-2 div.sk-estimator input.sk-toggleable__control:checked~label.sk-toggleable__label {background-color: #d4ebff;}#sk-container-id-2 div.sk-label input.sk-toggleable__control:checked~label.sk-toggleable__label {background-color: #d4ebff;}#sk-container-id-2 input.sk-hidden--visually {border: 0;clip: rect(1px 1px 1px 1px);clip: rect(1px, 1px, 1px, 1px);height: 1px;margin: -1px;overflow: hidden;padding: 0;position: absolute;width: 1px;}#sk-container-id-2 div.sk-estimator {font-family: monospace;background-color: #f0f8ff;border: 1px dotted black;border-radius: 0.25em;box-sizing: border-box;margin-bottom: 0.5em;}#sk-container-id-2 div.sk-estimator:hover {background-color: #d4ebff;}#sk-container-id-2 div.sk-parallel-item::after {content: \"\";width: 100%;border-bottom: 1px solid gray;flex-grow: 1;}#sk-container-id-2 div.sk-label:hover label.sk-toggleable__label {background-color: #d4ebff;}#sk-container-id-2 div.sk-serial::before {content: \"\";position: absolute;border-left: 1px solid gray;box-sizing: border-box;top: 0;bottom: 0;left: 50%;z-index: 0;}#sk-container-id-2 div.sk-serial {display: flex;flex-direction: column;align-items: center;background-color: white;padding-right: 0.2em;padding-left: 0.2em;position: relative;}#sk-container-id-2 div.sk-item {position: relative;z-index: 1;}#sk-container-id-2 div.sk-parallel {display: flex;align-items: stretch;justify-content: center;background-color: white;position: relative;}#sk-container-id-2 div.sk-item::before, #sk-container-id-2 div.sk-parallel-item::before {content: \"\";position: absolute;border-left: 1px solid gray;box-sizing: border-box;top: 0;bottom: 0;left: 50%;z-index: -1;}#sk-container-id-2 div.sk-parallel-item {display: flex;flex-direction: column;z-index: 1;position: relative;background-color: white;}#sk-container-id-2 div.sk-parallel-item:first-child::after {align-self: flex-end;width: 50%;}#sk-container-id-2 div.sk-parallel-item:last-child::after {align-self: flex-start;width: 50%;}#sk-container-id-2 div.sk-parallel-item:only-child::after {width: 0;}#sk-container-id-2 div.sk-dashed-wrapped {border: 1px dashed gray;margin: 0 0.4em 0.5em 0.4em;box-sizing: border-box;padding-bottom: 0.4em;background-color: white;}#sk-container-id-2 div.sk-label label {font-family: monospace;font-weight: bold;display: inline-block;line-height: 1.2em;}#sk-container-id-2 div.sk-label-container {text-align: center;}#sk-container-id-2 div.sk-container {/* jupyter's `normalize.less` sets `[hidden] { display: none; }` but bootstrap.min.css set `[hidden] { display: none !important; }` so we also need the `!important` here to be able to override the default hidden behavior on the sphinx rendered scikit-learn.org. See: https://github.com/scikit-learn/scikit-learn/issues/21755 */display: inline-block !important;position: relative;}#sk-container-id-2 div.sk-text-repr-fallback {display: none;}</style><div id=\"sk-container-id-2\" class=\"sk-top-container\"><div class=\"sk-text-repr-fallback\"><pre>SVC(kernel=&#x27;linear&#x27;)</pre><b>In a Jupyter environment, please rerun this cell to show the HTML representation or trust the notebook. <br />On GitHub, the HTML representation is unable to render, please try loading this page with nbviewer.org.</b></div><div class=\"sk-container\" hidden><div class=\"sk-item\"><div class=\"sk-estimator sk-toggleable\"><input class=\"sk-toggleable__control sk-hidden--visually\" id=\"sk-estimator-id-2\" type=\"checkbox\" checked><label for=\"sk-estimator-id-2\" class=\"sk-toggleable__label sk-toggleable__label-arrow\">SVC</label><div class=\"sk-toggleable__content\"><pre>SVC(kernel=&#x27;linear&#x27;)</pre></div></div></div></div></div>"
            ]
          },
          "metadata": {},
          "execution_count": 19
        }
      ]
    },
    {
      "cell_type": "code",
      "source": [
        "from sklearn.ensemble import RandomForestClassifier\n",
        "rf = RandomForestClassifier(n_estimators=100)\n",
        "rf.fit(X_train_count, y_train)"
      ],
      "metadata": {
        "colab": {
          "base_uri": "https://localhost:8080/",
          "height": 74
        },
        "id": "LRvhoww3TStr",
        "outputId": "757cb2f4-b172-4789-8c01-17860884d462"
      },
      "execution_count": 20,
      "outputs": [
        {
          "output_type": "execute_result",
          "data": {
            "text/plain": [
              "RandomForestClassifier()"
            ],
            "text/html": [
              "<style>#sk-container-id-3 {color: black;background-color: white;}#sk-container-id-3 pre{padding: 0;}#sk-container-id-3 div.sk-toggleable {background-color: white;}#sk-container-id-3 label.sk-toggleable__label {cursor: pointer;display: block;width: 100%;margin-bottom: 0;padding: 0.3em;box-sizing: border-box;text-align: center;}#sk-container-id-3 label.sk-toggleable__label-arrow:before {content: \"▸\";float: left;margin-right: 0.25em;color: #696969;}#sk-container-id-3 label.sk-toggleable__label-arrow:hover:before {color: black;}#sk-container-id-3 div.sk-estimator:hover label.sk-toggleable__label-arrow:before {color: black;}#sk-container-id-3 div.sk-toggleable__content {max-height: 0;max-width: 0;overflow: hidden;text-align: left;background-color: #f0f8ff;}#sk-container-id-3 div.sk-toggleable__content pre {margin: 0.2em;color: black;border-radius: 0.25em;background-color: #f0f8ff;}#sk-container-id-3 input.sk-toggleable__control:checked~div.sk-toggleable__content {max-height: 200px;max-width: 100%;overflow: auto;}#sk-container-id-3 input.sk-toggleable__control:checked~label.sk-toggleable__label-arrow:before {content: \"▾\";}#sk-container-id-3 div.sk-estimator input.sk-toggleable__control:checked~label.sk-toggleable__label {background-color: #d4ebff;}#sk-container-id-3 div.sk-label input.sk-toggleable__control:checked~label.sk-toggleable__label {background-color: #d4ebff;}#sk-container-id-3 input.sk-hidden--visually {border: 0;clip: rect(1px 1px 1px 1px);clip: rect(1px, 1px, 1px, 1px);height: 1px;margin: -1px;overflow: hidden;padding: 0;position: absolute;width: 1px;}#sk-container-id-3 div.sk-estimator {font-family: monospace;background-color: #f0f8ff;border: 1px dotted black;border-radius: 0.25em;box-sizing: border-box;margin-bottom: 0.5em;}#sk-container-id-3 div.sk-estimator:hover {background-color: #d4ebff;}#sk-container-id-3 div.sk-parallel-item::after {content: \"\";width: 100%;border-bottom: 1px solid gray;flex-grow: 1;}#sk-container-id-3 div.sk-label:hover label.sk-toggleable__label {background-color: #d4ebff;}#sk-container-id-3 div.sk-serial::before {content: \"\";position: absolute;border-left: 1px solid gray;box-sizing: border-box;top: 0;bottom: 0;left: 50%;z-index: 0;}#sk-container-id-3 div.sk-serial {display: flex;flex-direction: column;align-items: center;background-color: white;padding-right: 0.2em;padding-left: 0.2em;position: relative;}#sk-container-id-3 div.sk-item {position: relative;z-index: 1;}#sk-container-id-3 div.sk-parallel {display: flex;align-items: stretch;justify-content: center;background-color: white;position: relative;}#sk-container-id-3 div.sk-item::before, #sk-container-id-3 div.sk-parallel-item::before {content: \"\";position: absolute;border-left: 1px solid gray;box-sizing: border-box;top: 0;bottom: 0;left: 50%;z-index: -1;}#sk-container-id-3 div.sk-parallel-item {display: flex;flex-direction: column;z-index: 1;position: relative;background-color: white;}#sk-container-id-3 div.sk-parallel-item:first-child::after {align-self: flex-end;width: 50%;}#sk-container-id-3 div.sk-parallel-item:last-child::after {align-self: flex-start;width: 50%;}#sk-container-id-3 div.sk-parallel-item:only-child::after {width: 0;}#sk-container-id-3 div.sk-dashed-wrapped {border: 1px dashed gray;margin: 0 0.4em 0.5em 0.4em;box-sizing: border-box;padding-bottom: 0.4em;background-color: white;}#sk-container-id-3 div.sk-label label {font-family: monospace;font-weight: bold;display: inline-block;line-height: 1.2em;}#sk-container-id-3 div.sk-label-container {text-align: center;}#sk-container-id-3 div.sk-container {/* jupyter's `normalize.less` sets `[hidden] { display: none; }` but bootstrap.min.css set `[hidden] { display: none !important; }` so we also need the `!important` here to be able to override the default hidden behavior on the sphinx rendered scikit-learn.org. See: https://github.com/scikit-learn/scikit-learn/issues/21755 */display: inline-block !important;position: relative;}#sk-container-id-3 div.sk-text-repr-fallback {display: none;}</style><div id=\"sk-container-id-3\" class=\"sk-top-container\"><div class=\"sk-text-repr-fallback\"><pre>RandomForestClassifier()</pre><b>In a Jupyter environment, please rerun this cell to show the HTML representation or trust the notebook. <br />On GitHub, the HTML representation is unable to render, please try loading this page with nbviewer.org.</b></div><div class=\"sk-container\" hidden><div class=\"sk-item\"><div class=\"sk-estimator sk-toggleable\"><input class=\"sk-toggleable__control sk-hidden--visually\" id=\"sk-estimator-id-3\" type=\"checkbox\" checked><label for=\"sk-estimator-id-3\" class=\"sk-toggleable__label sk-toggleable__label-arrow\">RandomForestClassifier</label><div class=\"sk-toggleable__content\"><pre>RandomForestClassifier()</pre></div></div></div></div></div>"
            ]
          },
          "metadata": {},
          "execution_count": 20
        }
      ]
    },
    {
      "cell_type": "code",
      "source": [
        "y_pred_mn = mn.predict(X_test_count)\n",
        "y_pred_svm = svm.predict(X_test_count)\n",
        "y_pred_rf = rf.predict(X_test_count)"
      ],
      "metadata": {
        "id": "r-XJc4ec9kY6"
      },
      "execution_count": 21,
      "outputs": []
    },
    {
      "cell_type": "code",
      "source": [
        "X_test"
      ],
      "metadata": {
        "colab": {
          "base_uri": "https://localhost:8080/"
        },
        "id": "sJWosFfc-i_s",
        "outputId": "797c71c2-2e78-4047-ec5d-662c1afcb0f5"
      },
      "execution_count": 22,
      "outputs": [
        {
          "output_type": "execute_result",
          "data": {
            "text/plain": [
              "['sometimes good',\n",
              " 'good',\n",
              " 'good',\n",
              " 'theyre not healthy',\n",
              " 'no it not healthyand sometimes it cause indigestion',\n",
              " 'good',\n",
              " 'low quality',\n",
              " 'unhealthy',\n",
              " 'unhealthy',\n",
              " 'i couldnt know order item they prepare deliver it like homemade food they provide good nutritional content shop they provided adding some food colour make that food colourful they they use chemical content like ajinomotobaking sodaetc i feel unhealthy consume those food online food delivery system is business we people took that positive we are order food major advantage people were ordering food online is spend le time is no need cleaning vessel kitchen no need cut vegetable they provide food low cost',\n",
              " 'it is expensive le quantity',\n",
              " 'good',\n",
              " 'depends what i order']"
            ]
          },
          "metadata": {},
          "execution_count": 22
        }
      ]
    },
    {
      "cell_type": "code",
      "source": [
        "print(\"Naive bayes\", y_pred_mn)\n",
        "print(\"SVM\", y_pred_svm)\n",
        "print(\"Random forest\", y_pred_rf)"
      ],
      "metadata": {
        "colab": {
          "base_uri": "https://localhost:8080/"
        },
        "id": "F5x1qHCs9zIM",
        "outputId": "310fb7a6-c048-4eff-ed03-f7cce30bfdc9"
      },
      "execution_count": 23,
      "outputs": [
        {
          "output_type": "stream",
          "name": "stdout",
          "text": [
            "Naive bayes [ 0 -1 -1 -1 -1 -1 -1 -1 -1  0 -1 -1  0]\n",
            "SVM [ 0  1  1 -1 -1  1 -1 -1 -1  1 -1  1  0]\n",
            "Random forest [ 0  1  1 -1 -1  1 -1 -1 -1  0 -1  1  0]\n"
          ]
        }
      ]
    },
    {
      "cell_type": "code",
      "source": [
        "sample = ['the food was ok']\n",
        "sample = cv.transform(sample).toarray()\n",
        "y_pred1 = mn.predict(sample)\n",
        "print(\"Naive bayes\", y_pred1)\n",
        "y_pred2 = svm.predict(sample)\n",
        "print(\"SVM\", y_pred2)\n",
        "y_pred3 = rf.predict(sample)\n",
        "print(\"Random forest\", y_pred3)"
      ],
      "metadata": {
        "colab": {
          "base_uri": "https://localhost:8080/"
        },
        "id": "2YAk8QngLgh_",
        "outputId": "60cb20af-ac48-4169-e38e-17b0ed51f41f"
      },
      "execution_count": 26,
      "outputs": [
        {
          "output_type": "stream",
          "name": "stdout",
          "text": [
            "Naive bayes [0]\n",
            "SVM [0]\n",
            "Random forest [0]\n"
          ]
        }
      ]
    },
    {
      "cell_type": "code",
      "source": [
        "from sklearn.metrics import accuracy_score\n",
        "acc_model1 = accuracy_score(y_test, y_pred_mn)\n",
        "acc_model2 = accuracy_score(y_test, y_pred_svm)\n",
        "acc_model3 = accuracy_score(y_test, y_pred_rf)"
      ],
      "metadata": {
        "id": "SO_6OfJo8ocG"
      },
      "execution_count": 27,
      "outputs": []
    },
    {
      "cell_type": "code",
      "source": [
        "print(\"Naive bayes\",\":\",acc_model1)\n",
        "print(\"SVM\",\":\",acc_model2)\n",
        "print(\"Random Forest\",\":\",acc_model3)"
      ],
      "metadata": {
        "colab": {
          "base_uri": "https://localhost:8080/"
        },
        "id": "eFJTM0Vx-9CZ",
        "outputId": "4f342689-37ea-476c-cc6f-1abb04a9309d"
      },
      "execution_count": 28,
      "outputs": [
        {
          "output_type": "stream",
          "name": "stdout",
          "text": [
            "Naive bayes : 0.5384615384615384\n",
            "SVM : 0.7692307692307693\n",
            "Random Forest : 0.8461538461538461\n"
          ]
        }
      ]
    },
    {
      "cell_type": "code",
      "source": [
        "import pickle\n",
        "with open('sentiment_model.pkl', 'wb') as file:\n",
        "  pickle.dump(rf, file)"
      ],
      "metadata": {
        "id": "blRo28vpTvah"
      },
      "execution_count": 29,
      "outputs": []
    }
  ]
}